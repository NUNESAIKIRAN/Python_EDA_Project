{
 "cells": [
  {
   "cell_type": "code",
   "execution_count": 31,
   "id": "ec8e8531",
   "metadata": {},
   "outputs": [],
   "source": [
    "import re\n",
    "import csv\n",
    "from collections import Counter, defaultdict"
   ]
  },
  {
   "cell_type": "code",
   "execution_count": 26,
   "id": "84b62e93",
   "metadata": {},
   "outputs": [
    {
     "name": "stdout",
     "output_type": "stream",
     "text": [
      "Extracted IP Addresses:\n",
      "['192.168.1.1', '203.0.113.5', '10.0.0.2', '192.168.1.1', '198.51.100.23', '203.0.113.5', '192.168.1.100', '10.0.0.2', '198.51.100.23', '192.168.1.1', '203.0.113.5', '203.0.113.5', '192.168.1.100', '10.0.0.2', '192.168.1.1', '198.51.100.23', '203.0.113.5', '192.168.1.1', '198.51.100.23', '203.0.113.5', '192.168.1.100', '10.0.0.2', '198.51.100.23', '192.168.1.100', '203.0.113.5', '10.0.0.2', '192.168.1.1', '198.51.100.23', '203.0.113.5', '192.168.1.100', '10.0.0.2', '198.51.100.23', '192.168.1.1', '198.51.100.23']\n"
     ]
    }
   ],
   "source": [
    "file = \"sample.log.txt\"\n",
    "def log_file(file):\n",
    "    with open(file,\"r\") as f1:\n",
    "        txt_read = f1.readlines()\n",
    "    return txt_read\n",
    "    \n",
    "\n",
    "    \n",
    "Ip_address = []\n",
    "\n",
    "try:\n",
    "    pattern = r\"(\\d+\\.\\d+\\.\\d+\\.\\d+)\"\n",
    "    Ip_address = re.findall(pattern, txt_read)  \n",
    "    if Ip_address:\n",
    "        print(\"Extracted IP Addresses:\")\n",
    "        print(Ip_address)\n",
    "    else:\n",
    "        print(\"No IP addresses found in the log file.\")\n",
    "except Exception as e:\n",
    "    print(f\"An error occurred: {e}\")"
   ]
  },
  {
   "cell_type": "code",
   "execution_count": 29,
   "id": "3767a4fb",
   "metadata": {},
   "outputs": [
    {
     "data": {
      "text/plain": [
       "{'192.168.1.1': 7,\n",
       " '203.0.113.5': 8,\n",
       " '10.0.0.2': 6,\n",
       " '198.51.100.23': 8,\n",
       " '192.168.1.100': 5}"
      ]
     },
     "execution_count": 29,
     "metadata": {},
     "output_type": "execute_result"
    }
   ],
   "source": [
    "def count_req_ip(logs):\n",
    "    ip_counts = {}\n",
    "    for log in logs:\n",
    "        ip_counts[log] = ip_counts.get(log,0)+1\n",
    "    return ip_counts\n",
    "count_req_ip(Ip_address)\n",
    "        "
   ]
  },
  {
   "cell_type": "code",
   "execution_count": 33,
   "id": "ea771cb4",
   "metadata": {},
   "outputs": [
    {
     "name": "stdout",
     "output_type": "stream",
     "text": [
      "Requests per IP Address:\n",
      "192.168.1.1          7\n",
      "203.0.113.5          8\n",
      "10.0.0.2             6\n",
      "198.51.100.23        8\n",
      "192.168.1.100        5\n",
      "\n",
      "Most Frequently Accessed Endpoint:\n",
      "/login (Accessed 13 times)\n",
      "\n",
      "Suspicious Activity Detected:\n",
      "\n",
      "Results saved to log_analysis_results.csv\n"
     ]
    }
   ],
   "source": [
    "import re\n",
    "from collections import Counter\n",
    "\n",
    "# Constants\n",
    "LOG_FILE = \"sample.log.txt\"\n",
    "OUTPUT_FILE = \"log_analysis_results.csv\"\n",
    "FAILED_LOGIN_THRESHOLD = 10\n",
    "\n",
    "# Helper Functions\n",
    "def read_log_file(file_path):\n",
    "    \"\"\"Read the log file and return its content line by line.\"\"\"\n",
    "    try:\n",
    "        with open(file_path, 'r') as file:\n",
    "            return file.readlines()\n",
    "    except FileNotFoundError:\n",
    "        print(f\"Error: File {file_path} not found.\")\n",
    "        return []\n",
    "\n",
    "def extract_requests_per_ip(logs):\n",
    "    \"\"\"Extract IP addresses and count their occurrences.\"\"\"\n",
    "    ip_pattern = r\"(\\d+\\.\\d+\\.\\d+\\.\\d+)\"\n",
    "    ip_addresses = [re.match(ip_pattern, log).group(1) for log in logs if re.match(ip_pattern, log)]\n",
    "    return Counter(ip_addresses)\n",
    "\n",
    "def find_most_frequent_endpoint(logs):\n",
    "    \"\"\"Identify the most frequently accessed endpoint.\"\"\"\n",
    "    endpoint_pattern = r'\\\"[A-Z]+\\s+(/[^\\s]*)'\n",
    "    endpoints = [re.search(endpoint_pattern, log).group(1) for log in logs if re.search(endpoint_pattern, log)]\n",
    "    endpoint_counts = Counter(endpoints)\n",
    "    return endpoint_counts.most_common(1)[0] if endpoint_counts else (\"None\", 0)\n",
    "\n",
    "def detect_failed_logins(logs, threshold):\n",
    "    \"\"\"Detect IPs with failed login attempts exceeding a threshold.\"\"\"\n",
    "    failed_login_pattern = r\"(\\d+\\.\\d+\\.\\d+\\.\\d+).*401|Invalid credentials\"\n",
    "    failed_ips = [re.match(failed_login_pattern, log).group(1) for log in logs if re.match(failed_login_pattern, log)]\n",
    "    failed_counts = Counter(failed_ips)\n",
    "    return {ip: count for ip, count in failed_counts.items() if count > threshold}\n",
    "\n",
    "def write_to_csv(ip_data, endpoint_data, suspicious_data, output_file):\n",
    "    \"\"\"Write analysis results to a CSV file.\"\"\"\n",
    "    with open(output_file, 'w') as file:\n",
    "        file.write(\"Requests per IP\\n\")\n",
    "        file.write(\"IP Address,Request Count\\n\")\n",
    "        for ip, count in ip_data.items():\n",
    "            file.write(f\"{ip},{count}\\n\")\n",
    "\n",
    "        file.write(\"\\nMost Accessed Endpoint\\n\")\n",
    "        file.write(\"Endpoint,Access Count\\n\")\n",
    "        file.write(f\"{endpoint_data[0]},{endpoint_data[1]}\\n\")\n",
    "\n",
    "        file.write(\"\\nSuspicious Activity\\n\")\n",
    "        file.write(\"IP Address,Failed Login Count\\n\")\n",
    "        for ip, count in suspicious_data.items():\n",
    "            file.write(f\"{ip},{count}\\n\")\n",
    "\n",
    "# Main Function\n",
    "def main():\n",
    "    logs = read_log_file(LOG_FILE)\n",
    "    if not logs:\n",
    "        return\n",
    "\n",
    "    # Analyze log file\n",
    "    requests_per_ip = extract_requests_per_ip(logs)\n",
    "    most_accessed_endpoint = find_most_frequent_endpoint(logs)\n",
    "    suspicious_ips = detect_failed_logins(logs, FAILED_LOGIN_THRESHOLD)\n",
    "\n",
    "    # Display results\n",
    "    print(\"Requests per IP Address:\")\n",
    "    for ip, count in requests_per_ip.items():\n",
    "        print(f\"{ip: <20} {count}\")\n",
    "\n",
    "    print(\"\\nMost Frequently Accessed Endpoint:\")\n",
    "    print(f\"{most_accessed_endpoint[0]} (Accessed {most_accessed_endpoint[1]} times)\")\n",
    "\n",
    "    print(\"\\nSuspicious Activity Detected:\")\n",
    "    for ip, count in suspicious_ips.items():\n",
    "        print(f\"{ip: <20} {count}\")\n",
    "\n",
    "    # Write results to CSV\n",
    "    write_to_csv(requests_per_ip, most_accessed_endpoint, suspicious_ips, OUTPUT_FILE)\n",
    "    print(f\"\\nResults saved to {OUTPUT_FILE}\")\n",
    "\n",
    "# Execute script\n",
    "if __name__ == \"__main__\":\n",
    "    main()\n"
   ]
  },
  {
   "cell_type": "code",
   "execution_count": 34,
   "id": "c43dc051",
   "metadata": {},
   "outputs": [],
   "source": [
    "import pandas as pd"
   ]
  },
  {
   "cell_type": "code",
   "execution_count": 35,
   "id": "e2d5b147",
   "metadata": {},
   "outputs": [],
   "source": [
    "df = pd.read_csv(\"log_analysis_results.csv\")"
   ]
  },
  {
   "cell_type": "code",
   "execution_count": 36,
   "id": "f52226ad",
   "metadata": {},
   "outputs": [
    {
     "data": {
      "text/html": [
       "<div>\n",
       "<style scoped>\n",
       "    .dataframe tbody tr th:only-of-type {\n",
       "        vertical-align: middle;\n",
       "    }\n",
       "\n",
       "    .dataframe tbody tr th {\n",
       "        vertical-align: top;\n",
       "    }\n",
       "\n",
       "    .dataframe thead th {\n",
       "        text-align: right;\n",
       "    }\n",
       "</style>\n",
       "<table border=\"1\" class=\"dataframe\">\n",
       "  <thead>\n",
       "    <tr style=\"text-align: right;\">\n",
       "      <th></th>\n",
       "      <th>IP Address</th>\n",
       "      <th>192.168.1.1</th>\n",
       "      <th>203.0.113.5</th>\n",
       "      <th>10.0.0.2</th>\n",
       "      <th>198.51.100.23</th>\n",
       "      <th>192.168.1.100</th>\n",
       "      <th>Most Accessed Endpoint</th>\n",
       "      <th>Endpoint</th>\n",
       "      <th>/login</th>\n",
       "      <th>Suspicious Activity</th>\n",
       "      <th>IP Address</th>\n",
       "    </tr>\n",
       "  </thead>\n",
       "  <tbody>\n",
       "    <tr>\n",
       "      <th>Requests per IP</th>\n",
       "      <td>Request Count</td>\n",
       "      <td>7</td>\n",
       "      <td>8</td>\n",
       "      <td>6</td>\n",
       "      <td>8</td>\n",
       "      <td>5</td>\n",
       "      <td>NaN</td>\n",
       "      <td>Access Count</td>\n",
       "      <td>13</td>\n",
       "      <td>NaN</td>\n",
       "      <td>Failed Login Count</td>\n",
       "    </tr>\n",
       "  </tbody>\n",
       "</table>\n",
       "</div>"
      ],
      "text/plain": [
       "                    IP Address 192.168.1.1 203.0.113.5  ... /login Suspicious Activity          IP Address\n",
       "Requests per IP  Request Count           7           8  ...     13                 NaN  Failed Login Count\n",
       "\n",
       "[1 rows x 11 columns]"
      ]
     },
     "execution_count": 36,
     "metadata": {},
     "output_type": "execute_result"
    }
   ],
   "source": [
    "df.T"
   ]
  },
  {
   "cell_type": "code",
   "execution_count": null,
   "id": "3b4991c6",
   "metadata": {},
   "outputs": [],
   "source": []
  }
 ],
 "metadata": {
  "kernelspec": {
   "display_name": "Python 3 (ipykernel)",
   "language": "python",
   "name": "python3"
  },
  "language_info": {
   "codemirror_mode": {
    "name": "ipython",
    "version": 3
   },
   "file_extension": ".py",
   "mimetype": "text/x-python",
   "name": "python",
   "nbconvert_exporter": "python",
   "pygments_lexer": "ipython3",
   "version": "3.11.5"
  }
 },
 "nbformat": 4,
 "nbformat_minor": 5
}
